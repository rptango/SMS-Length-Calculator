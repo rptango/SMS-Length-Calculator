{
 "cells": [
  {
   "cell_type": "code",
   "execution_count": 1,
   "id": "7e85a3aa-5dbe-4f1a-8112-166f3887cf92",
   "metadata": {},
   "outputs": [],
   "source": [
    "from sms_counter import SMSCounter"
   ]
  },
  {
   "cell_type": "code",
   "execution_count": 15,
   "id": "e0c1d811-01b9-4865-9da3-a09a8fc9dbfc",
   "metadata": {},
   "outputs": [
    {
     "ename": "SyntaxError",
     "evalue": "invalid syntax (160285402.py, line 1)",
     "output_type": "error",
     "traceback": [
      "  \u001b[36mCell\u001b[39m\u001b[36m \u001b[39m\u001b[32mIn[15]\u001b[39m\u001b[32m, line 1\u001b[39m\n\u001b[31m    \u001b[39m\u001b[31m// This imports:\u001b[39m\n    ^\n\u001b[31mSyntaxError\u001b[39m\u001b[31m:\u001b[39m invalid syntax\n"
     ]
    }
   ],
   "source": [
    "#charCount = GsmCharsetUtils.getCharCount('Test UCS2 backtick `');\n",
    "#// charCount = {\"charCount\":20,\"msgCount\":1,\"charsPerSegment\":70,\"encoding\":\"UCS2\"}\n",
    "\n",
    "#charCount = GsmCharsetUtils.getCharCount('Test UCS2 emoji 😀');\n",
    "#// charCount = {\"charCount\":18,\"msgCount\":1,\"charsPerSegment\":70,\"encoding\":\"UCS2\"}\n",
    "\n",
    "#// gsmText = \"\\\"Hello world!\\\"\""
   ]
  },
  {
   "cell_type": "code",
   "execution_count": 8,
   "id": "1388cddf-416c-478b-b426-51837749d414",
   "metadata": {},
   "outputs": [],
   "source": [
    "message = \"Get VIP passes to All Points East Festival\"\n",
    "message2 = \"Test UCS2 backtick `\"\n",
    "message3 = \"Test UCS2 emoji 😀\"\n"
   ]
  },
  {
   "cell_type": "code",
   "execution_count": 9,
   "id": "7179444a-c8d5-4242-8af8-8750e405017d",
   "metadata": {},
   "outputs": [
    {
     "name": "stdout",
     "output_type": "stream",
     "text": [
      "{'encoding': 'GSM_7BIT', 'length': 42, 'per_message': 160, 'remaining': 118, 'messages': 1}\n",
      "{'encoding': 'UTF16', 'length': 20, 'per_message': 70, 'remaining': 50, 'messages': 1}\n",
      "{'encoding': 'UTF16', 'length': 17, 'per_message': 70, 'remaining': 53, 'messages': 1}\n"
     ]
    }
   ],
   "source": [
    "print(SMSCounter.count(message))\n",
    "print(SMSCounter.count(message2))\n",
    "print(SMSCounter.count(message3))"
   ]
  }
 ],
 "metadata": {
  "kernelspec": {
   "display_name": "Python 3 (ipykernel)",
   "language": "python",
   "name": "python3"
  },
  "language_info": {
   "codemirror_mode": {
    "name": "ipython",
    "version": 3
   },
   "file_extension": ".py",
   "mimetype": "text/x-python",
   "name": "python",
   "nbconvert_exporter": "python",
   "pygments_lexer": "ipython3",
   "version": "3.12.9"
  }
 },
 "nbformat": 4,
 "nbformat_minor": 5
}
